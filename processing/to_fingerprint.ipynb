{
 "cells": [
  {
   "cell_type": "code",
   "execution_count": null,
   "metadata": {},
   "outputs": [],
   "source": [
    "import utils as my\n",
    "import pandas as pd\n",
    "import pubchempy as pbp\n",
    "from rdkit import Chem\n",
    "from rdkit.Chem import rdMolDescriptors\n",
    "import torch\n",
    "import numpy as np\n",
    "from torch import nn\n",
    "from tqdm import tqdm\n",
    "import plotly"
   ]
  },
  {
   "cell_type": "code",
   "execution_count": null,
   "metadata": {},
   "outputs": [],
   "source": [
    "data = pd.read_csv('../data.csv')\n",
    "smiles = data['smiles']\n",
    "CI_raw = data['A2780 CS']\n",
    "smiles_nonan = []\n",
    "CI = []\n",
    "for i in range(len(smiles)):\n",
    "    if not pd.isna(smiles[i]) and not pd.isna(CI_raw[i]):\n",
    "        smiles_nonan.append(smiles[i])\n",
    "        CI.append(my.strtonp(CI_raw[i]))\n",
    "CI.pop(272)\n",
    "smiles_nonan.pop(272)\n",
    "CI = np.asarray(CI)\n",
    "CI = np.log(CI)"
   ]
  },
  {
   "cell_type": "code",
   "execution_count": null,
   "metadata": {},
   "outputs": [],
   "source": [
    "print(CI[271], np.argmax(CI[:, 1]))"
   ]
  },
  {
   "cell_type": "code",
   "execution_count": null,
   "metadata": {},
   "outputs": [],
   "source": [
    "fingerprints = []\n",
    "for i in smiles_nonan:\n",
    "    molecular = Chem.MolFromSmiles(i)\n",
    "    fingerprint = rdMolDescriptors.GetMorganFingerprintAsBitVect(molecular, 6, nBits=1024)\n",
    "    fingerprint = list(fingerprint)\n",
    "    fingerprints.append(fingerprint)\n"
   ]
  },
  {
   "cell_type": "code",
   "execution_count": null,
   "metadata": {},
   "outputs": [],
   "source": [
    "features = torch.tensor(fingerprints, dtype=torch.float)\n",
    "labels = torch.tensor(CI[:,1], dtype=torch.float).unsqueeze(1)\n",
    "# data_processed = pd.DataFrame({'features': features, 'labels': labels})\n",
    "print(labels.shape)"
   ]
  },
  {
   "cell_type": "code",
   "execution_count": null,
   "metadata": {},
   "outputs": [],
   "source": [
    "# import torch\n",
    "# from torchvision import transforms\n",
    "\n",
    "# # 定义标准化变换\n",
    "# transform = transforms.Lambda(lambda x: (x - torch.mean(x)) / torch.std(x))\n",
    "\n",
    "# # 应用变换\n",
    "# labels = transform(labels)"
   ]
  },
  {
   "cell_type": "code",
   "execution_count": null,
   "metadata": {},
   "outputs": [],
   "source": [
    "from torch.utils import data\n",
    "def load_array(array, batchsize, is_train=True):\n",
    "    dataset = data.TensorDataset(*array)\n",
    "    return data.DataLoader(dataset, batch_size=batchsize, shuffle=is_train)\n",
    "dataloader = load_array((features, labels), 128)\n",
    "net = nn.Sequential(nn.Linear(1024, 256),\n",
    "                    nn.ReLU(),\n",
    "                    nn.Linear(256, 1))\n",
    "trainer = torch.optim.SGD(net.parameters(), lr=0.0003)\n",
    "loss = nn.MSELoss()\n",
    "def init_weights(m):\n",
    "    if type(m) == nn.Linear:\n",
    "        nn.init.normal_(m.weight, 0, std=1)\n",
    "\n",
    "net.apply(init_weights)\n",
    "y_ = net(features)\n",
    "l = loss(y_, labels)\n",
    "l.backward()\n",
    "print(net[0].weight.grad)\n",
    "# num_epochs = 100\n",
    "# for epoch in tqdm(range(num_epochs)):\n",
    "#     for X, y in dataloader:\n",
    "#         l = loss(net(X) ,y)\n",
    "#         trainer.zero_grad()\n",
    "#         l.backward()\n",
    "#         trainer.step()\n",
    "#     l = loss(net(features), labels)\n",
    "# print(f'epoch {epoch + 1}, loss {l:f}')\n",
    "# l = loss(net(features), labels)\n",
    "# print(f'epoch {epoch + 1}, loss {l:f}')\n",
    "# import plotly.graph_objects as go\n",
    "# net.train(False)\n",
    "# y_ = net(features)\n",
    "# x = y_.flatten().detach()\n",
    "# y = labels.flatten().detach()\n",
    "# fig = go.Figure()\n",
    "# # fig.add_trace(go.Scatter(x = features.flatten(), y=labels.flatten(), mode='markers'))\n",
    "# # fig.add_trace(go.Scatter(x = features.flatten(), y= x))\n",
    "# fig.add_trace(go.Scatter(x = x, y=y, mode='markers'))\n",
    "\n",
    "# # 显示图表\n",
    "# fig.show()"
   ]
  },
  {
   "cell_type": "code",
   "execution_count": null,
   "metadata": {},
   "outputs": [],
   "source": [
    "net[0].weight.data"
   ]
  }
 ],
 "metadata": {
  "kernelspec": {
   "display_name": "GdProject",
   "language": "python",
   "name": "python3"
  },
  "language_info": {
   "codemirror_mode": {
    "name": "ipython",
    "version": 3
   },
   "file_extension": ".py",
   "mimetype": "text/x-python",
   "name": "python",
   "nbconvert_exporter": "python",
   "pygments_lexer": "ipython3",
   "version": "3.9.20"
  }
 },
 "nbformat": 4,
 "nbformat_minor": 2
}
