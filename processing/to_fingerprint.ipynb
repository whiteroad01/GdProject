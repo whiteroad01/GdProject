{
 "cells": [
  {
   "cell_type": "code",
   "execution_count": 620,
   "metadata": {},
   "outputs": [],
   "source": [
    "import utils as my\n",
    "import pandas as pd\n",
    "import pubchempy as pbp\n",
    "from rdkit import Chem\n",
    "from rdkit.Chem import rdMolDescriptors\n",
    "import torch\n",
    "import numpy as np\n",
    "from torch import nn\n",
    "from tqdm import tqdm\n",
    "import plotly"
   ]
  },
  {
   "cell_type": "code",
   "execution_count": 621,
   "metadata": {},
   "outputs": [],
   "source": [
    "data = pd.read_csv('../data.csv')\n",
    "smiles = data['smiles']\n",
    "CI_raw = data['A2780 CS']\n",
    "smiles_nonan = []\n",
    "CI = []\n",
    "for i in range(len(smiles)):\n",
    "    if not pd.isna(smiles[i]) and not pd.isna(CI_raw[i]):\n",
    "        smiles_nonan.append(smiles[i])\n",
    "        CI.append(my.strtonp(CI_raw[i]))\n",
    "CI.pop(272)\n",
    "smiles_nonan.pop(272)\n",
    "CI = np.asarray(CI)\n",
    "CI = np.log(CI)"
   ]
  },
  {
   "cell_type": "code",
   "execution_count": 622,
   "metadata": {},
   "outputs": [
    {
     "name": "stdout",
     "output_type": "stream",
     "text": [
      "[0.61049514 0.74378704 0.57428024] 271\n"
     ]
    }
   ],
   "source": [
    "print(CI[89], np.argmax(CI[:, 1]))"
   ]
  },
  {
   "cell_type": "code",
   "execution_count": 623,
   "metadata": {},
   "outputs": [
    {
     "name": "stderr",
     "output_type": "stream",
     "text": [
      "[11:12:31] DEPRECATION WARNING: please use MorganGenerator\n",
      "[11:12:31] DEPRECATION WARNING: please use MorganGenerator\n",
      "[11:12:31] DEPRECATION WARNING: please use MorganGenerator\n",
      "[11:12:31] DEPRECATION WARNING: please use MorganGenerator\n",
      "[11:12:31] DEPRECATION WARNING: please use MorganGenerator\n",
      "[11:12:31] DEPRECATION WARNING: please use MorganGenerator\n",
      "[11:12:31] DEPRECATION WARNING: please use MorganGenerator\n",
      "[11:12:31] DEPRECATION WARNING: please use MorganGenerator\n",
      "[11:12:31] DEPRECATION WARNING: please use MorganGenerator\n",
      "[11:12:31] DEPRECATION WARNING: please use MorganGenerator\n",
      "[11:12:31] DEPRECATION WARNING: please use MorganGenerator\n",
      "[11:12:31] DEPRECATION WARNING: please use MorganGenerator\n",
      "[11:12:31] DEPRECATION WARNING: please use MorganGenerator\n",
      "[11:12:31] DEPRECATION WARNING: please use MorganGenerator\n",
      "[11:12:31] DEPRECATION WARNING: please use MorganGenerator\n",
      "[11:12:31] DEPRECATION WARNING: please use MorganGenerator\n",
      "[11:12:31] DEPRECATION WARNING: please use MorganGenerator\n",
      "[11:12:31] DEPRECATION WARNING: please use MorganGenerator\n",
      "[11:12:31] DEPRECATION WARNING: please use MorganGenerator\n",
      "[11:12:31] DEPRECATION WARNING: please use MorganGenerator\n",
      "[11:12:31] DEPRECATION WARNING: please use MorganGenerator\n",
      "[11:12:31] DEPRECATION WARNING: please use MorganGenerator\n",
      "[11:12:31] DEPRECATION WARNING: please use MorganGenerator\n",
      "[11:12:31] DEPRECATION WARNING: please use MorganGenerator\n",
      "[11:12:31] DEPRECATION WARNING: please use MorganGenerator\n",
      "[11:12:31] DEPRECATION WARNING: please use MorganGenerator\n",
      "[11:12:31] DEPRECATION WARNING: please use MorganGenerator\n",
      "[11:12:31] DEPRECATION WARNING: please use MorganGenerator\n",
      "[11:12:31] DEPRECATION WARNING: please use MorganGenerator\n",
      "[11:12:31] DEPRECATION WARNING: please use MorganGenerator\n",
      "[11:12:31] DEPRECATION WARNING: please use MorganGenerator\n",
      "[11:12:31] DEPRECATION WARNING: please use MorganGenerator\n",
      "[11:12:31] DEPRECATION WARNING: please use MorganGenerator\n",
      "[11:12:31] DEPRECATION WARNING: please use MorganGenerator\n",
      "[11:12:31] DEPRECATION WARNING: please use MorganGenerator\n",
      "[11:12:31] DEPRECATION WARNING: please use MorganGenerator\n",
      "[11:12:31] DEPRECATION WARNING: please use MorganGenerator\n",
      "[11:12:31] DEPRECATION WARNING: please use MorganGenerator\n",
      "[11:12:31] DEPRECATION WARNING: please use MorganGenerator\n",
      "[11:12:31] DEPRECATION WARNING: please use MorganGenerator\n",
      "[11:12:31] DEPRECATION WARNING: please use MorganGenerator\n",
      "[11:12:31] DEPRECATION WARNING: please use MorganGenerator\n",
      "[11:12:31] DEPRECATION WARNING: please use MorganGenerator\n",
      "[11:12:31] DEPRECATION WARNING: please use MorganGenerator\n",
      "[11:12:31] DEPRECATION WARNING: please use MorganGenerator\n",
      "[11:12:31] DEPRECATION WARNING: please use MorganGenerator\n",
      "[11:12:31] DEPRECATION WARNING: please use MorganGenerator\n",
      "[11:12:31] DEPRECATION WARNING: please use MorganGenerator\n",
      "[11:12:31] DEPRECATION WARNING: please use MorganGenerator\n",
      "[11:12:31] DEPRECATION WARNING: please use MorganGenerator\n",
      "[11:12:31] DEPRECATION WARNING: please use MorganGenerator\n",
      "[11:12:31] DEPRECATION WARNING: please use MorganGenerator\n",
      "[11:12:31] DEPRECATION WARNING: please use MorganGenerator\n",
      "[11:12:31] DEPRECATION WARNING: please use MorganGenerator\n",
      "[11:12:31] DEPRECATION WARNING: please use MorganGenerator\n",
      "[11:12:31] DEPRECATION WARNING: please use MorganGenerator\n",
      "[11:12:31] DEPRECATION WARNING: please use MorganGenerator\n",
      "[11:12:31] DEPRECATION WARNING: please use MorganGenerator\n",
      "[11:12:31] DEPRECATION WARNING: please use MorganGenerator\n",
      "[11:12:31] DEPRECATION WARNING: please use MorganGenerator\n",
      "[11:12:31] DEPRECATION WARNING: please use MorganGenerator\n",
      "[11:12:31] DEPRECATION WARNING: please use MorganGenerator\n",
      "[11:12:31] DEPRECATION WARNING: please use MorganGenerator\n",
      "[11:12:31] DEPRECATION WARNING: please use MorganGenerator\n",
      "[11:12:31] DEPRECATION WARNING: please use MorganGenerator\n",
      "[11:12:31] DEPRECATION WARNING: please use MorganGenerator\n",
      "[11:12:31] DEPRECATION WARNING: please use MorganGenerator\n",
      "[11:12:31] DEPRECATION WARNING: please use MorganGenerator\n",
      "[11:12:31] DEPRECATION WARNING: please use MorganGenerator\n",
      "[11:12:31] DEPRECATION WARNING: please use MorganGenerator\n",
      "[11:12:31] DEPRECATION WARNING: please use MorganGenerator\n",
      "[11:12:31] DEPRECATION WARNING: please use MorganGenerator\n",
      "[11:12:31] DEPRECATION WARNING: please use MorganGenerator\n",
      "[11:12:31] DEPRECATION WARNING: please use MorganGenerator\n",
      "[11:12:31] DEPRECATION WARNING: please use MorganGenerator\n",
      "[11:12:31] DEPRECATION WARNING: please use MorganGenerator\n",
      "[11:12:31] DEPRECATION WARNING: please use MorganGenerator\n",
      "[11:12:31] DEPRECATION WARNING: please use MorganGenerator\n",
      "[11:12:31] DEPRECATION WARNING: please use MorganGenerator\n",
      "[11:12:31] DEPRECATION WARNING: please use MorganGenerator\n",
      "[11:12:31] DEPRECATION WARNING: please use MorganGenerator\n",
      "[11:12:31] DEPRECATION WARNING: please use MorganGenerator\n",
      "[11:12:31] DEPRECATION WARNING: please use MorganGenerator\n",
      "[11:12:31] DEPRECATION WARNING: please use MorganGenerator\n",
      "[11:12:31] DEPRECATION WARNING: please use MorganGenerator\n",
      "[11:12:31] DEPRECATION WARNING: please use MorganGenerator\n",
      "[11:12:31] DEPRECATION WARNING: please use MorganGenerator\n",
      "[11:12:31] DEPRECATION WARNING: please use MorganGenerator\n",
      "[11:12:31] DEPRECATION WARNING: please use MorganGenerator\n",
      "[11:12:31] DEPRECATION WARNING: please use MorganGenerator\n",
      "[11:12:31] DEPRECATION WARNING: please use MorganGenerator\n",
      "[11:12:31] DEPRECATION WARNING: please use MorganGenerator\n",
      "[11:12:31] DEPRECATION WARNING: please use MorganGenerator\n",
      "[11:12:31] DEPRECATION WARNING: please use MorganGenerator\n",
      "[11:12:31] DEPRECATION WARNING: please use MorganGenerator\n",
      "[11:12:31] DEPRECATION WARNING: please use MorganGenerator\n",
      "[11:12:31] DEPRECATION WARNING: please use MorganGenerator\n",
      "[11:12:31] DEPRECATION WARNING: please use MorganGenerator\n",
      "[11:12:31] DEPRECATION WARNING: please use MorganGenerator\n",
      "[11:12:31] DEPRECATION WARNING: please use MorganGenerator\n",
      "[11:12:31] DEPRECATION WARNING: please use MorganGenerator\n",
      "[11:12:31] DEPRECATION WARNING: please use MorganGenerator\n",
      "[11:12:31] DEPRECATION WARNING: please use MorganGenerator\n",
      "[11:12:31] DEPRECATION WARNING: please use MorganGenerator\n",
      "[11:12:31] DEPRECATION WARNING: please use MorganGenerator\n",
      "[11:12:31] DEPRECATION WARNING: please use MorganGenerator\n",
      "[11:12:31] DEPRECATION WARNING: please use MorganGenerator\n",
      "[11:12:31] DEPRECATION WARNING: please use MorganGenerator\n",
      "[11:12:31] DEPRECATION WARNING: please use MorganGenerator\n",
      "[11:12:31] DEPRECATION WARNING: please use MorganGenerator\n",
      "[11:12:31] DEPRECATION WARNING: please use MorganGenerator\n",
      "[11:12:31] DEPRECATION WARNING: please use MorganGenerator\n",
      "[11:12:31] DEPRECATION WARNING: please use MorganGenerator\n",
      "[11:12:31] DEPRECATION WARNING: please use MorganGenerator\n",
      "[11:12:31] DEPRECATION WARNING: please use MorganGenerator\n",
      "[11:12:31] DEPRECATION WARNING: please use MorganGenerator\n",
      "[11:12:31] DEPRECATION WARNING: please use MorganGenerator\n",
      "[11:12:31] DEPRECATION WARNING: please use MorganGenerator\n",
      "[11:12:31] DEPRECATION WARNING: please use MorganGenerator\n",
      "[11:12:31] DEPRECATION WARNING: please use MorganGenerator\n",
      "[11:12:31] DEPRECATION WARNING: please use MorganGenerator\n",
      "[11:12:31] DEPRECATION WARNING: please use MorganGenerator\n",
      "[11:12:31] DEPRECATION WARNING: please use MorganGenerator\n",
      "[11:12:31] DEPRECATION WARNING: please use MorganGenerator\n",
      "[11:12:31] DEPRECATION WARNING: please use MorganGenerator\n",
      "[11:12:31] DEPRECATION WARNING: please use MorganGenerator\n",
      "[11:12:31] DEPRECATION WARNING: please use MorganGenerator\n",
      "[11:12:31] DEPRECATION WARNING: please use MorganGenerator\n",
      "[11:12:31] DEPRECATION WARNING: please use MorganGenerator\n",
      "[11:12:31] DEPRECATION WARNING: please use MorganGenerator\n",
      "[11:12:31] DEPRECATION WARNING: please use MorganGenerator\n",
      "[11:12:31] DEPRECATION WARNING: please use MorganGenerator\n",
      "[11:12:31] DEPRECATION WARNING: please use MorganGenerator\n",
      "[11:12:31] DEPRECATION WARNING: please use MorganGenerator\n",
      "[11:12:31] DEPRECATION WARNING: please use MorganGenerator\n",
      "[11:12:31] DEPRECATION WARNING: please use MorganGenerator\n",
      "[11:12:31] DEPRECATION WARNING: please use MorganGenerator\n",
      "[11:12:31] DEPRECATION WARNING: please use MorganGenerator\n",
      "[11:12:31] DEPRECATION WARNING: please use MorganGenerator\n",
      "[11:12:31] DEPRECATION WARNING: please use MorganGenerator\n",
      "[11:12:31] DEPRECATION WARNING: please use MorganGenerator\n",
      "[11:12:31] DEPRECATION WARNING: please use MorganGenerator\n",
      "[11:12:31] DEPRECATION WARNING: please use MorganGenerator\n",
      "[11:12:31] DEPRECATION WARNING: please use MorganGenerator\n",
      "[11:12:31] DEPRECATION WARNING: please use MorganGenerator\n",
      "[11:12:31] DEPRECATION WARNING: please use MorganGenerator\n",
      "[11:12:31] DEPRECATION WARNING: please use MorganGenerator\n",
      "[11:12:31] DEPRECATION WARNING: please use MorganGenerator\n",
      "[11:12:31] DEPRECATION WARNING: please use MorganGenerator\n",
      "[11:12:31] DEPRECATION WARNING: please use MorganGenerator\n",
      "[11:12:31] DEPRECATION WARNING: please use MorganGenerator\n",
      "[11:12:31] DEPRECATION WARNING: please use MorganGenerator\n",
      "[11:12:31] DEPRECATION WARNING: please use MorganGenerator\n",
      "[11:12:31] DEPRECATION WARNING: please use MorganGenerator\n",
      "[11:12:31] DEPRECATION WARNING: please use MorganGenerator\n",
      "[11:12:31] DEPRECATION WARNING: please use MorganGenerator\n",
      "[11:12:31] DEPRECATION WARNING: please use MorganGenerator\n",
      "[11:12:31] DEPRECATION WARNING: please use MorganGenerator\n",
      "[11:12:31] DEPRECATION WARNING: please use MorganGenerator\n",
      "[11:12:31] DEPRECATION WARNING: please use MorganGenerator\n",
      "[11:12:31] DEPRECATION WARNING: please use MorganGenerator\n",
      "[11:12:31] DEPRECATION WARNING: please use MorganGenerator\n",
      "[11:12:31] DEPRECATION WARNING: please use MorganGenerator\n",
      "[11:12:31] DEPRECATION WARNING: please use MorganGenerator\n",
      "[11:12:31] DEPRECATION WARNING: please use MorganGenerator\n",
      "[11:12:31] DEPRECATION WARNING: please use MorganGenerator\n",
      "[11:12:31] DEPRECATION WARNING: please use MorganGenerator\n",
      "[11:12:31] DEPRECATION WARNING: please use MorganGenerator\n",
      "[11:12:31] DEPRECATION WARNING: please use MorganGenerator\n",
      "[11:12:31] DEPRECATION WARNING: please use MorganGenerator\n",
      "[11:12:31] DEPRECATION WARNING: please use MorganGenerator\n",
      "[11:12:31] DEPRECATION WARNING: please use MorganGenerator\n",
      "[11:12:31] DEPRECATION WARNING: please use MorganGenerator\n",
      "[11:12:31] DEPRECATION WARNING: please use MorganGenerator\n",
      "[11:12:31] DEPRECATION WARNING: please use MorganGenerator\n",
      "[11:12:31] DEPRECATION WARNING: please use MorganGenerator\n",
      "[11:12:31] DEPRECATION WARNING: please use MorganGenerator\n",
      "[11:12:31] DEPRECATION WARNING: please use MorganGenerator\n",
      "[11:12:31] DEPRECATION WARNING: please use MorganGenerator\n",
      "[11:12:31] DEPRECATION WARNING: please use MorganGenerator\n",
      "[11:12:31] DEPRECATION WARNING: please use MorganGenerator\n",
      "[11:12:31] DEPRECATION WARNING: please use MorganGenerator\n",
      "[11:12:31] DEPRECATION WARNING: please use MorganGenerator\n",
      "[11:12:31] DEPRECATION WARNING: please use MorganGenerator\n",
      "[11:12:31] DEPRECATION WARNING: please use MorganGenerator\n",
      "[11:12:31] DEPRECATION WARNING: please use MorganGenerator\n",
      "[11:12:31] DEPRECATION WARNING: please use MorganGenerator\n",
      "[11:12:31] DEPRECATION WARNING: please use MorganGenerator\n",
      "[11:12:31] DEPRECATION WARNING: please use MorganGenerator\n",
      "[11:12:31] DEPRECATION WARNING: please use MorganGenerator\n",
      "[11:12:31] DEPRECATION WARNING: please use MorganGenerator\n",
      "[11:12:31] DEPRECATION WARNING: please use MorganGenerator\n",
      "[11:12:31] DEPRECATION WARNING: please use MorganGenerator\n",
      "[11:12:31] DEPRECATION WARNING: please use MorganGenerator\n",
      "[11:12:31] DEPRECATION WARNING: please use MorganGenerator\n",
      "[11:12:31] DEPRECATION WARNING: please use MorganGenerator\n",
      "[11:12:31] DEPRECATION WARNING: please use MorganGenerator\n",
      "[11:12:31] DEPRECATION WARNING: please use MorganGenerator\n",
      "[11:12:31] DEPRECATION WARNING: please use MorganGenerator\n",
      "[11:12:31] DEPRECATION WARNING: please use MorganGenerator\n",
      "[11:12:31] DEPRECATION WARNING: please use MorganGenerator\n",
      "[11:12:31] DEPRECATION WARNING: please use MorganGenerator\n",
      "[11:12:31] DEPRECATION WARNING: please use MorganGenerator\n",
      "[11:12:31] DEPRECATION WARNING: please use MorganGenerator\n",
      "[11:12:31] DEPRECATION WARNING: please use MorganGenerator\n",
      "[11:12:31] DEPRECATION WARNING: please use MorganGenerator\n",
      "[11:12:31] DEPRECATION WARNING: please use MorganGenerator\n",
      "[11:12:31] DEPRECATION WARNING: please use MorganGenerator\n",
      "[11:12:31] DEPRECATION WARNING: please use MorganGenerator\n",
      "[11:12:31] DEPRECATION WARNING: please use MorganGenerator\n",
      "[11:12:31] DEPRECATION WARNING: please use MorganGenerator\n",
      "[11:12:31] DEPRECATION WARNING: please use MorganGenerator\n",
      "[11:12:31] DEPRECATION WARNING: please use MorganGenerator\n",
      "[11:12:31] DEPRECATION WARNING: please use MorganGenerator\n",
      "[11:12:31] DEPRECATION WARNING: please use MorganGenerator\n",
      "[11:12:31] DEPRECATION WARNING: please use MorganGenerator\n",
      "[11:12:31] DEPRECATION WARNING: please use MorganGenerator\n",
      "[11:12:31] DEPRECATION WARNING: please use MorganGenerator\n",
      "[11:12:31] DEPRECATION WARNING: please use MorganGenerator\n",
      "[11:12:31] DEPRECATION WARNING: please use MorganGenerator\n",
      "[11:12:31] DEPRECATION WARNING: please use MorganGenerator\n",
      "[11:12:31] DEPRECATION WARNING: please use MorganGenerator\n",
      "[11:12:31] DEPRECATION WARNING: please use MorganGenerator\n",
      "[11:12:31] DEPRECATION WARNING: please use MorganGenerator\n",
      "[11:12:31] DEPRECATION WARNING: please use MorganGenerator\n",
      "[11:12:31] DEPRECATION WARNING: please use MorganGenerator\n",
      "[11:12:31] DEPRECATION WARNING: please use MorganGenerator\n",
      "[11:12:31] DEPRECATION WARNING: please use MorganGenerator\n",
      "[11:12:31] DEPRECATION WARNING: please use MorganGenerator\n",
      "[11:12:31] DEPRECATION WARNING: please use MorganGenerator\n",
      "[11:12:31] DEPRECATION WARNING: please use MorganGenerator\n",
      "[11:12:31] DEPRECATION WARNING: please use MorganGenerator\n",
      "[11:12:31] DEPRECATION WARNING: please use MorganGenerator\n",
      "[11:12:31] DEPRECATION WARNING: please use MorganGenerator\n",
      "[11:12:31] DEPRECATION WARNING: please use MorganGenerator\n",
      "[11:12:31] DEPRECATION WARNING: please use MorganGenerator\n",
      "[11:12:31] DEPRECATION WARNING: please use MorganGenerator\n",
      "[11:12:31] DEPRECATION WARNING: please use MorganGenerator\n",
      "[11:12:31] DEPRECATION WARNING: please use MorganGenerator\n",
      "[11:12:31] DEPRECATION WARNING: please use MorganGenerator\n",
      "[11:12:31] DEPRECATION WARNING: please use MorganGenerator\n",
      "[11:12:31] DEPRECATION WARNING: please use MorganGenerator\n",
      "[11:12:31] DEPRECATION WARNING: please use MorganGenerator\n",
      "[11:12:31] DEPRECATION WARNING: please use MorganGenerator\n",
      "[11:12:31] DEPRECATION WARNING: please use MorganGenerator\n",
      "[11:12:31] DEPRECATION WARNING: please use MorganGenerator\n",
      "[11:12:31] DEPRECATION WARNING: please use MorganGenerator\n",
      "[11:12:31] DEPRECATION WARNING: please use MorganGenerator\n",
      "[11:12:31] DEPRECATION WARNING: please use MorganGenerator\n",
      "[11:12:31] DEPRECATION WARNING: please use MorganGenerator\n",
      "[11:12:31] DEPRECATION WARNING: please use MorganGenerator\n",
      "[11:12:31] DEPRECATION WARNING: please use MorganGenerator\n",
      "[11:12:31] DEPRECATION WARNING: please use MorganGenerator\n",
      "[11:12:31] DEPRECATION WARNING: please use MorganGenerator\n",
      "[11:12:31] DEPRECATION WARNING: please use MorganGenerator\n",
      "[11:12:31] DEPRECATION WARNING: please use MorganGenerator\n",
      "[11:12:31] DEPRECATION WARNING: please use MorganGenerator\n",
      "[11:12:31] DEPRECATION WARNING: please use MorganGenerator\n",
      "[11:12:31] DEPRECATION WARNING: please use MorganGenerator\n",
      "[11:12:31] DEPRECATION WARNING: please use MorganGenerator\n",
      "[11:12:31] DEPRECATION WARNING: please use MorganGenerator\n",
      "[11:12:31] DEPRECATION WARNING: please use MorganGenerator\n",
      "[11:12:31] DEPRECATION WARNING: please use MorganGenerator\n",
      "[11:12:31] DEPRECATION WARNING: please use MorganGenerator\n",
      "[11:12:31] DEPRECATION WARNING: please use MorganGenerator\n",
      "[11:12:31] DEPRECATION WARNING: please use MorganGenerator\n",
      "[11:12:31] DEPRECATION WARNING: please use MorganGenerator\n",
      "[11:12:31] DEPRECATION WARNING: please use MorganGenerator\n",
      "[11:12:31] DEPRECATION WARNING: please use MorganGenerator\n",
      "[11:12:31] DEPRECATION WARNING: please use MorganGenerator\n",
      "[11:12:31] DEPRECATION WARNING: please use MorganGenerator\n",
      "[11:12:31] DEPRECATION WARNING: please use MorganGenerator\n",
      "[11:12:31] DEPRECATION WARNING: please use MorganGenerator\n",
      "[11:12:31] DEPRECATION WARNING: please use MorganGenerator\n",
      "[11:12:31] DEPRECATION WARNING: please use MorganGenerator\n",
      "[11:12:31] DEPRECATION WARNING: please use MorganGenerator\n",
      "[11:12:31] DEPRECATION WARNING: please use MorganGenerator\n",
      "[11:12:31] DEPRECATION WARNING: please use MorganGenerator\n",
      "[11:12:31] DEPRECATION WARNING: please use MorganGenerator\n",
      "[11:12:31] DEPRECATION WARNING: please use MorganGenerator\n",
      "[11:12:31] DEPRECATION WARNING: please use MorganGenerator\n",
      "[11:12:31] DEPRECATION WARNING: please use MorganGenerator\n",
      "[11:12:31] DEPRECATION WARNING: please use MorganGenerator\n",
      "[11:12:31] DEPRECATION WARNING: please use MorganGenerator\n",
      "[11:12:31] DEPRECATION WARNING: please use MorganGenerator\n",
      "[11:12:31] DEPRECATION WARNING: please use MorganGenerator\n",
      "[11:12:31] DEPRECATION WARNING: please use MorganGenerator\n",
      "[11:12:31] DEPRECATION WARNING: please use MorganGenerator\n",
      "[11:12:31] DEPRECATION WARNING: please use MorganGenerator\n",
      "[11:12:31] DEPRECATION WARNING: please use MorganGenerator\n",
      "[11:12:31] DEPRECATION WARNING: please use MorganGenerator\n",
      "[11:12:31] DEPRECATION WARNING: please use MorganGenerator\n",
      "[11:12:31] DEPRECATION WARNING: please use MorganGenerator\n",
      "[11:12:31] DEPRECATION WARNING: please use MorganGenerator\n",
      "[11:12:31] DEPRECATION WARNING: please use MorganGenerator\n",
      "[11:12:31] DEPRECATION WARNING: please use MorganGenerator\n",
      "[11:12:31] DEPRECATION WARNING: please use MorganGenerator\n",
      "[11:12:31] DEPRECATION WARNING: please use MorganGenerator\n",
      "[11:12:31] DEPRECATION WARNING: please use MorganGenerator\n",
      "[11:12:31] DEPRECATION WARNING: please use MorganGenerator\n",
      "[11:12:31] DEPRECATION WARNING: please use MorganGenerator\n",
      "[11:12:31] DEPRECATION WARNING: please use MorganGenerator\n",
      "[11:12:31] DEPRECATION WARNING: please use MorganGenerator\n",
      "[11:12:31] DEPRECATION WARNING: please use MorganGenerator\n",
      "[11:12:31] DEPRECATION WARNING: please use MorganGenerator\n",
      "[11:12:31] DEPRECATION WARNING: please use MorganGenerator\n",
      "[11:12:31] DEPRECATION WARNING: please use MorganGenerator\n",
      "[11:12:31] DEPRECATION WARNING: please use MorganGenerator\n",
      "[11:12:31] DEPRECATION WARNING: please use MorganGenerator\n",
      "[11:12:31] DEPRECATION WARNING: please use MorganGenerator\n",
      "[11:12:31] DEPRECATION WARNING: please use MorganGenerator\n",
      "[11:12:31] DEPRECATION WARNING: please use MorganGenerator\n",
      "[11:12:31] DEPRECATION WARNING: please use MorganGenerator\n",
      "[11:12:31] DEPRECATION WARNING: please use MorganGenerator\n",
      "[11:12:31] DEPRECATION WARNING: please use MorganGenerator\n",
      "[11:12:31] DEPRECATION WARNING: please use MorganGenerator\n",
      "[11:12:31] DEPRECATION WARNING: please use MorganGenerator\n",
      "[11:12:31] DEPRECATION WARNING: please use MorganGenerator\n",
      "[11:12:31] DEPRECATION WARNING: please use MorganGenerator\n",
      "[11:12:31] DEPRECATION WARNING: please use MorganGenerator\n",
      "[11:12:31] DEPRECATION WARNING: please use MorganGenerator\n",
      "[11:12:31] DEPRECATION WARNING: please use MorganGenerator\n",
      "[11:12:31] DEPRECATION WARNING: please use MorganGenerator\n",
      "[11:12:31] DEPRECATION WARNING: please use MorganGenerator\n",
      "[11:12:31] DEPRECATION WARNING: please use MorganGenerator\n",
      "[11:12:31] DEPRECATION WARNING: please use MorganGenerator\n",
      "[11:12:31] DEPRECATION WARNING: please use MorganGenerator\n",
      "[11:12:31] DEPRECATION WARNING: please use MorganGenerator\n",
      "[11:12:31] DEPRECATION WARNING: please use MorganGenerator\n",
      "[11:12:31] DEPRECATION WARNING: please use MorganGenerator\n",
      "[11:12:31] DEPRECATION WARNING: please use MorganGenerator\n",
      "[11:12:31] DEPRECATION WARNING: please use MorganGenerator\n",
      "[11:12:31] DEPRECATION WARNING: please use MorganGenerator\n",
      "[11:12:31] DEPRECATION WARNING: please use MorganGenerator\n",
      "[11:12:31] DEPRECATION WARNING: please use MorganGenerator\n",
      "[11:12:31] DEPRECATION WARNING: please use MorganGenerator\n",
      "[11:12:31] DEPRECATION WARNING: please use MorganGenerator\n",
      "[11:12:31] DEPRECATION WARNING: please use MorganGenerator\n",
      "[11:12:31] DEPRECATION WARNING: please use MorganGenerator\n",
      "[11:12:31] DEPRECATION WARNING: please use MorganGenerator\n"
     ]
    }
   ],
   "source": [
    "fingerprints = []\n",
    "for i in smiles_nonan:\n",
    "    molecular = Chem.MolFromSmiles(i)\n",
    "    fingerprint = rdMolDescriptors.GetMorganFingerprintAsBitVect(molecular, 6, nBits=1024)\n",
    "    fingerprint = list(fingerprint)\n",
    "    fingerprints.append(fingerprint)\n"
   ]
  },
  {
   "cell_type": "code",
   "execution_count": 624,
   "metadata": {},
   "outputs": [
    {
     "name": "stdout",
     "output_type": "stream",
     "text": [
      "torch.Size([340, 1])\n"
     ]
    }
   ],
   "source": [
    "features = torch.tensor(fingerprints, dtype=torch.float)\n",
    "labels = torch.tensor(CI[:,1], dtype=torch.float).unsqueeze(1)\n",
    "# data_processed = pd.DataFrame({'features': features, 'labels': labels})\n",
    "print(labels.shape)"
   ]
  },
  {
   "cell_type": "code",
   "execution_count": 625,
   "metadata": {},
   "outputs": [],
   "source": [
    "import torch\n",
    "from torchvision import transforms\n",
    "\n",
    "# 定义标准化变换\n",
    "transform = transforms.Lambda(lambda x: (x - torch.mean(x)) / torch.std(x))\n",
    "\n",
    "# 应用变换\n",
    "features = transform(features)"
   ]
  },
  {
   "cell_type": "code",
   "execution_count": 626,
   "metadata": {},
   "outputs": [
    {
     "data": {
      "text/plain": [
       "Sequential(\n",
       "  (0): Linear(in_features=1024, out_features=256, bias=True)\n",
       "  (1): Sigmoid()\n",
       "  (2): Linear(in_features=256, out_features=1, bias=True)\n",
       ")"
      ]
     },
     "execution_count": 626,
     "metadata": {},
     "output_type": "execute_result"
    }
   ],
   "source": [
    "from torch.utils import data\n",
    "def load_array(array, batchsize, is_train=True):\n",
    "    dataset = data.TensorDataset(*array)\n",
    "    return data.DataLoader(dataset, batch_size=batchsize, shuffle=is_train)\n",
    "dataloader = load_array((features, labels), 128)\n",
    "net = nn.Sequential(nn.Linear(1024, 256),\n",
    "                    nn.Sigmoid(),\n",
    "                    nn.Linear(256, 1))\n",
    "trainer = torch.optim.SGD(net.parameters(), lr=0.0001)\n",
    "loss = nn.MSELoss()\n",
    "def init_weights(m):\n",
    "    if type(m) == nn.Linear:\n",
    "        nn.init.normal_(m.weight, 0, std=1)\n",
    "\n",
    "net.apply(init_weights)\n",
    "# y_ = net(features)\n",
    "# l = loss(y_, labels)\n",
    "# l.backward()\n",
    "# print(net[0].weight.grad)\n"
   ]
  },
  {
   "cell_type": "code",
   "execution_count": 687,
   "metadata": {},
   "outputs": [
    {
     "name": "stderr",
     "output_type": "stream",
     "text": [
      "100%|██████████| 10000/10000 [00:41<00:00, 240.32it/s]"
     ]
    },
    {
     "name": "stdout",
     "output_type": "stream",
     "text": [
      "epoch 10000, loss 0.000667\n",
      "epoch 10000, loss 0.000667\n"
     ]
    },
    {
     "name": "stderr",
     "output_type": "stream",
     "text": [
      "\n"
     ]
    }
   ],
   "source": [
    "num_epochs = 10000\n",
    "for epoch in tqdm(range(num_epochs)):\n",
    "    for X, y in dataloader:\n",
    "        l = loss(net(X) ,y)\n",
    "        trainer.zero_grad()\n",
    "        l.backward()\n",
    "        trainer.step()\n",
    "    l = loss(net(features), labels)\n",
    "print(f'epoch {epoch + 1}, loss {l:f}')\n",
    "l = loss(net(features), labels)\n",
    "print(f'epoch {epoch + 1}, loss {l:f}')"
   ]
  },
  {
   "cell_type": "code",
   "execution_count": 688,
   "metadata": {},
   "outputs": [
    {
     "data": {
      "application/vnd.plotly.v1+json": {
       "config": {
        "plotlyServerURL": "https://plot.ly"
       },
       "data": [
        {
         "mode": "markers",
         "type": "scatter",
         "x": [
          0.7731267809867859,
          0.053312137722969055,
          0.11137552559375763,
          -0.13485459983348846,
          -0.09967212378978729,
          0.4345349669456482,
          2.3697636127471924,
          -0.12935619056224823,
          -0.34683114290237427,
          0.386344850063324,
          0.5511695742607117,
          -0.052368924021720886,
          1.2164182662963867,
          0.45765870809555054,
          -0.3873324990272522,
          -0.004580065608024597,
          -0.11841945350170135,
          -0.021480366587638855,
          0.5176636576652527,
          -0.8259943127632141,
          2.146799325942993,
          0.1585371047258377,
          0.8809403777122498,
          -0.0007899254560470581,
          -0.9966934323310852,
          -0.3420148491859436,
          -0.08986501395702362,
          -0.2009313553571701,
          -0.05336169898509979,
          -0.1273534744977951,
          -0.15518026053905487,
          -0.17540960013866425,
          -0.15791873633861542,
          -0.06651715934276581,
          -0.06569842994213104,
          0.10194559395313263,
          0.30878132581710815,
          0.1581379920244217,
          0.14169473946094513,
          -0.04507569968700409,
          0.09246988594532013,
          -0.16469745337963104,
          -0.05661039054393768,
          -0.057593151926994324,
          -0.10069780051708221,
          -0.08459644019603729,
          0.06892414391040802,
          0.048125460743904114,
          -0.1399553269147873,
          -0.1322496384382248,
          0.31143444776535034,
          0.007885411381721497,
          -0.06650762259960175,
          -0.1309226006269455,
          -0.05123405158519745,
          -0.15554599463939667,
          0.0015363246202468872,
          -0.09711627662181854,
          0.007982566952705383,
          0.28383225202560425,
          -0.10767476260662079,
          -0.028770729899406433,
          0.003185585141181946,
          0.23542065918445587,
          0.34705179929733276,
          -0.06843261420726776,
          0.03459925949573517,
          0.062216952443122864,
          0.34121912717819214,
          0.3171812891960144,
          0.1558947116136551,
          -0.03233461081981659,
          -0.08428387343883514,
          0.000058844685554504395,
          0.16748256981372833,
          -0.0871608704328537,
          0.11289806663990021,
          0.06244416534900665,
          -0.02802877128124237,
          0.36209696531295776,
          0.20885784924030304,
          0.04843731224536896,
          -0.1887987107038498,
          -0.1727622002363205,
          -0.2556779980659485,
          -0.2376728504896164,
          -0.1676676720380783,
          -0.07283811271190643,
          -0.0286434143781662,
          0.7620517611503601,
          -0.10412387549877167,
          -0.053586289286613464,
          -0.061758801341056824,
          0.07520885765552521,
          0.1071292906999588,
          0.1574065238237381,
          -0.11120609939098358,
          0.6941470503807068,
          -0.02863006293773651,
          -0.018973156809806824,
          0.07628841698169708,
          0.15903253853321075,
          0.25495046377182007,
          0.38317984342575073,
          0.17772527039051056,
          0.519594132900238,
          -0.07785730063915253,
          0.27720779180526733,
          0.2019716054201126,
          0.17334575951099396,
          -0.11742667853832245,
          0.002058461308479309,
          0.13806934654712677,
          -0.03063468635082245,
          0.10041208565235138,
          0.12812753021717072,
          0.3777009844779968,
          -0.011059090495109558,
          0.09218378365039825,
          0.463725745677948,
          -0.036243245005607605,
          0.5968815684318542,
          0.31578654050827026,
          -0.7429764866828918,
          0.13213129341602325,
          0.08631964027881622,
          0.4628576636314392,
          0.22506113350391388,
          0.011585429310798645,
          -0.04175214469432831,
          -0.03198270499706268,
          0.17167015373706818,
          -0.10978321731090546,
          0.021500781178474426,
          -0.1189153641462326,
          0.08408041298389435,
          -0.1013672798871994,
          0.21249981224536896,
          0.004780009388923645,
          0.44583362340927124,
          -0.10853032767772675,
          0.17196626961231232,
          0.4538251757621765,
          0.29310721158981323,
          0.024864032864570618,
          1.1750562191009521,
          -0.05307798087596893,
          0.39717692136764526,
          -0.06741861999034882,
          0.2316858321428299,
          0.22513647377490997,
          -0.08028750121593475,
          -0.07558946311473846,
          0.10974903404712677,
          0.2079441100358963,
          0.30206793546676636,
          0.10504932701587677,
          -0.06971399486064911,
          0.13245220482349396,
          0.2575356364250183,
          0.26621299982070923,
          -0.041352078318595886,
          -0.015513226389884949,
          -0.10473327338695526,
          -0.19992046058177948,
          -0.0362122505903244,
          -0.03665761649608612,
          0.13916416466236115,
          0.20658846199512482,
          0.20555801689624786,
          0.24869652092456818,
          0.18547315895557404,
          -0.12566404044628143,
          0.2543875575065613,
          0.3847615122795105,
          0.06686802208423615,
          0.29784029722213745,
          -0.07570509612560272,
          0.00029058754444122314,
          0.09053917229175568,
          0.2126450091600418,
          -0.07050494849681854,
          -0.11331252753734589,
          -0.15904264152050018,
          -0.12805108726024628,
          -0.1545589417219162,
          -0.17891626060009003,
          -0.8168075680732727,
          -0.009315773844718933,
          -0.041395947337150574,
          0.08736248314380646,
          0.13791199028491974,
          0.09867377579212189,
          -0.17427091300487518,
          0.11763520538806915,
          -0.14098910987377167,
          -0.1703985184431076,
          0.07409115135669708,
          0.5140711665153503,
          0.21621818840503693,
          0.1648213416337967,
          0.07808418571949005,
          0.023208096623420715,
          0.010679200291633606,
          -0.02846650779247284,
          -0.057678982615470886,
          -0.06763915717601776,
          0.025920584797859192,
          0.8153616786003113,
          -0.07351140677928925,
          -0.03921060264110565,
          0.5675041079521179,
          0.2760102152824402,
          -0.017397448420524597,
          0.040436938405036926,
          0.04040117561817169,
          0.3986665606498718,
          0.637510359287262,
          0.3654558062553406,
          0.08326168358325958,
          -0.04033474624156952,
          0.4319378733634949,
          0.1398136168718338,
          0.23996539413928986,
          0.3292176127433777,
          0.45805519819259644,
          0.5748600363731384,
          0.0361454039812088,
          0.047129347920417786,
          -0.062302395701408386,
          -0.7718303799629211,
          0.500128448009491,
          0.3359829783439636,
          -0.11437015235424042,
          0.287244975566864,
          0.020464614033699036,
          0.3395516276359558,
          -0.1436036080121994,
          0.08584137260913849,
          -0.05307035148143768,
          -0.030229851603507996,
          0.5721632838249207,
          0.43991202116012573,
          0.31363552808761597,
          0.21249981224536896,
          0.4607941508293152,
          -0.10377244651317596,
          0.4677860140800476,
          -0.06427459418773651,
          0.5097476840019226,
          0.3470296263694763,
          0.25229185819625854,
          0.16882629692554474,
          0.6007549166679382,
          -0.03846316039562225,
          0.12050171196460724,
          0.2927796244621277,
          0.0848674327135086,
          0.22867055237293243,
          0.30872899293899536,
          0.2897178530693054,
          -0.0762501209974289,
          -0.08288030326366425,
          -0.05153517425060272,
          0.5959972739219666,
          0.5346667170524597,
          0.2600967288017273,
          0.6330134272575378,
          0.467512309551239,
          0.15225525200366974,
          0.22937317192554474,
          4.258246421813965,
          0.20885784924030304,
          0.25539320707321167,
          -0.26980191469192505,
          -1.5384023189544678,
          -0.6812923550605774,
          0.17943401634693146,
          0.010972216725349426,
          0.04915525019168854,
          -0.3135297894477844,
          -0.7261064648628235,
          0.2261487990617752,
          0.08235092461109161,
          -0.19344620406627655,
          -0.1784677952528,
          -0.011376425623893738,
          -0.3012874722480774,
          0.2761651873588562,
          1.503831148147583,
          0.17874927818775177,
          0.24831028282642365,
          4.249906539916992,
          0.2423364669084549,
          0.8302635550498962,
          0.7135931849479675,
          0.8498315215110779,
          -0.7586415410041809,
          0.10808677971363068,
          -0.019559189677238464,
          0.018614962697029114,
          0.8102392554283142,
          -0.9777229428291321,
          -0.07723717391490936,
          -0.04264049232006073,
          0.4244949221611023,
          0.5849272608757019,
          -0.24350862205028534,
          -0.004681631922721863,
          -0.13203005492687225,
          0.052172139286994934,
          -0.2155502289533615,
          0.6099974513053894,
          1.003873348236084,
          0.9559919238090515,
          0.5647644400596619,
          -0.08928065001964569,
          -0.026503130793571472,
          -0.2659037709236145,
          2.255744695663452,
          -0.2389553040266037,
          0.015166953206062317,
          -0.025861069560050964,
          -0.40055257081985474,
          -0.7377594113349915,
          -0.32235461473464966,
          -0.9018576741218567,
          0.2249424010515213,
          -0.542995274066925,
          0.9974625706672668,
          -1.0802534818649292,
          -0.25616198778152466,
          -0.2982481122016907,
          -1.595637559890747,
          -0.19500140845775604,
          -0.8283146023750305,
          -0.25616198778152466,
          -0.21538667380809784,
          -0.4099505543708801,
          2.25781512260437
         ],
         "y": [
          0.7712405920028687,
          0.05154120549559593,
          0.1587173193693161,
          -0.13387808203697205,
          -0.10920459777116776,
          0.43700161576271057,
          2.372143268585205,
          -0.12767226994037628,
          -0.3476540148258209,
          0.37859800457954407,
          0.5580911636352539,
          -0.06666406244039536,
          1.2129454612731934,
          0.5263631343841553,
          -0.46069714426994324,
          -0.004124142695218325,
          -0.10488656908273697,
          -0.025256240740418434,
          0.5145854353904724,
          -0.832618236541748,
          2.1490166187286377,
          0.1498337835073471,
          0.8855411410331726,
          0.00311858206987381,
          -1.0001283884048462,
          -0.36296963691711426,
          -0.0922696515917778,
          -0.20155330002307892,
          -0.051951900124549866,
          -0.13222768902778625,
          -0.1540149301290512,
          -0.17818263173103333,
          -0.1647006720304489,
          -0.06169554591178894,
          -0.06704612821340561,
          0.10254605859518051,
          0.31048285961151123,
          0.1543840914964676,
          0.14481663703918457,
          -0.01591414026916027,
          0.07968352735042572,
          -0.1814100295305252,
          -0.06001380831003189,
          -0.06329889595508575,
          -0.1034909337759018,
          -0.08092529326677322,
          0.06665879487991333,
          0.044105350971221924,
          -0.1406419575214386,
          -0.13179562985897064,
          0.3137648105621338,
          0.003467710455879569,
          -0.054350532591342926,
          -0.1359153538942337,
          -0.045677315443754196,
          -0.1622656136751175,
          -0.000608745263889432,
          -0.10091965645551682,
          0.011656329967081547,
          0.28144118189811707,
          -0.11351962387561798,
          -0.029308045282959938,
          0.0028158118948340416,
          0.23312732577323914,
          0.34424009919166565,
          -0.07072798162698746,
          0.03138197585940361,
          0.061139434576034546,
          0.3414001166820526,
          0.3163515329360962,
          0.1530594527721405,
          -0.04135291650891304,
          -0.08654958754777908,
          0.0030261664651334286,
          0.18787670135498047,
          -0.08720556646585464,
          0.12762488424777985,
          0.069003164768219,
          0.000814378319773823,
          0.3521910607814789,
          0.08060355484485626,
          0.04197036102414131,
          -0.1928122639656067,
          -0.1707819253206253,
          -0.2498435527086258,
          -0.22931203246116638,
          -0.16974103450775146,
          -0.08068139851093292,
          -0.035094719380140305,
          0.7437870502471924,
          -0.1133255660533905,
          -0.04724802449345589,
          -0.05650491267442703,
          0.07579410076141357,
          0.1148645430803299,
          0.1564217209815979,
          -0.10502814501523972,
          0.6814427971839905,
          -0.02435765415430069,
          -0.029728639870882034,
          0.07788363099098206,
          0.16313999891281128,
          0.25811904668807983,
          0.3876751661300659,
          0.1372859925031662,
          0.5210307836532593,
          -0.07439171522855759,
          0.2761721611022949,
          0.20591607689857483,
          0.1682141125202179,
          -0.10505500435829163,
          0.05885448306798935,
          0.1461515575647354,
          -0.02720661647617817,
          0.10119065642356873,
          0.13188624382019043,
          0.3796617388725281,
          -0.004894689656794071,
          0.08066769689321518,
          0.47656193375587463,
          -0.0349055640399456,
          0.61812824010849,
          0.3107506334781647,
          -0.7382819056510925,
          0.11523721367120743,
          0.08676941692829132,
          0.4044605791568756,
          0.2218899428844452,
          0.025997566059231758,
          -0.055347248911857605,
          -0.02908509038388729,
          0.16876362264156342,
          -0.10839150100946426,
          0.029184304177761078,
          -0.12335187941789627,
          0.1011926606297493,
          -0.11313904821872711,
          0.4500732123851776,
          -0.03037336654961109,
          0.4426429569721222,
          -0.11238127201795578,
          0.1721154749393463,
          0.45783740282058716,
          0.28812161087989807,
          0.01763305999338627,
          1.175139307975769,
          -0.052698321640491486,
          0.3978768587112427,
          -0.07699984312057495,
          0.23172062635421753,
          0.22810962796211243,
          -0.07832790166139603,
          -0.07370465993881226,
          0.11714889109134674,
          0.2016887664794922,
          0.30395153164863586,
          0.09721385687589645,
          -0.06774760037660599,
          0.13751022517681122,
          0.2529342472553253,
          0.2660004198551178,
          -0.03127594292163849,
          -0.01514843013137579,
          -0.0972711592912674,
          -0.20259568095207214,
          -0.10655400902032852,
          -0.040590908378362656,
          0.142217218875885,
          0.2066853940486908,
          0.21188311278820038,
          0.26435786485671997,
          0.1893063634634018,
          -0.12610803544521332,
          0.2577246129512787,
          0.43133777379989624,
          0.07305671274662018,
          0.28483057022094727,
          -0.0771997794508934,
          -0.013924446888267994,
          0.0932970717549324,
          0.21129634976387024,
          -0.07278942316770554,
          -0.11934618651866913,
          -0.1597624272108078,
          -0.12964265048503876,
          -0.15346558392047882,
          -0.1823371797800064,
          -0.8200821876525879,
          -0.009258023463189602,
          -0.045051731169223785,
          0.09626556932926178,
          0.14660650491714478,
          0.10002326220273972,
          -0.1790892332792282,
          0.12165142595767975,
          -0.1403467208147049,
          -0.16700948774814606,
          0.07262342423200607,
          0.5038344860076904,
          0.2117885798215866,
          0.16537371277809143,
          0.07243612408638,
          0.025644568726420403,
          0.004708258900791407,
          -0.02244831807911396,
          -0.05731051787734032,
          -0.06545929610729218,
          0.02867608331143856,
          0.8180182576179504,
          -0.08051644265651703,
          -0.042491365224123,
          0.5654745101928711,
          0.2782599627971649,
          -0.02276599034667015,
          0.04011416807770729,
          0.040434129536151886,
          0.3948202431201935,
          0.6510557532310486,
          0.36350351572036743,
          0.08259405195713043,
          -0.035532426089048386,
          0.4299927055835724,
          0.14326053857803345,
          0.23558084666728973,
          0.3401677906513214,
          0.4529176652431488,
          0.5695258975028992,
          0.03331052139401436,
          0.0609930045902729,
          -0.0722365453839302,
          -0.7734413146972656,
          0.5059173703193665,
          0.34840908646583557,
          -0.1201334074139595,
          0.295305460691452,
          0.023435598239302635,
          0.336470365524292,
          -0.1443677693605423,
          0.08970989286899567,
          -0.0508921854197979,
          -0.02791851945221424,
          0.6418996453285217,
          0.44808048009872437,
          0.3191682994365692,
          -0.023840438574552536,
          0.46782779693603516,
          -0.11023544520139694,
          0.46403247117996216,
          -0.06464391201734543,
          0.5221899747848511,
          0.341322124004364,
          0.24881547689437866,
          0.16739410161972046,
          0.6046785712242126,
          -0.040346283465623856,
          0.1195584312081337,
          0.2941628694534302,
          0.058161620050668716,
          0.22552281618118286,
          0.29186177253723145,
          0.27581924200057983,
          -0.07047085464000702,
          -0.08712301403284073,
          -0.05375920608639717,
          0.596981942653656,
          0.529228687286377,
          0.25040504336357117,
          0.6248635053634644,
          0.4726284146308899,
          0.15347689390182495,
          0.23188026249408722,
          4.25148868560791,
          0.3361271321773529,
          0.25693297386169434,
          -0.27013179659843445,
          -1.5433573722839355,
          -0.6853771209716797,
          0.1828383058309555,
          0.004708258900791407,
          0.05290086567401886,
          -0.313701868057251,
          -0.7746984362602234,
          0.2201661765575409,
          0.08060698956251144,
          -0.19100768864154816,
          -0.1853581666946411,
          -0.008184048347175121,
          -0.29864636063575745,
          0.2656018137931824,
          1.5035101175308228,
          0.1753687858581543,
          0.24763181805610657,
          4.235830307006836,
          0.23404282331466675,
          0.8236486911773682,
          0.7122063636779785,
          0.8592442274093628,
          -0.761611819267273,
          0.10612069815397263,
          -0.024057362228631973,
          0.02550700306892395,
          0.8092873692512512,
          -0.9791064858436584,
          -0.07699192315340042,
          -0.0466177798807621,
          0.42983800172805786,
          0.5807908177375793,
          -0.24569478631019592,
          -0.006844318937510252,
          -0.1379738301038742,
          0.055043675005435944,
          -0.21763554215431213,
          0.5969075560569763,
          1.0064029693603516,
          0.9573668837547302,
          0.565851628780365,
          -0.10102498531341553,
          -0.02932135947048664,
          -0.24267975986003876,
          2.2479028701782227,
          -0.2385280579328537,
          0.00993313267827034,
          -0.027940792962908745,
          -0.39686211943626404,
          -0.7453768849372864,
          -0.32224854826927185,
          -0.9012508988380432,
          0.21736395359039307,
          -0.41206467151641846,
          1.0000990629196167,
          -1.0817748308181763,
          -0.3388977348804474,
          -0.29710739850997925,
          -1.5926154851913452,
          -0.19161005318164825,
          -0.8176039457321167,
          -0.18013234436511993,
          -0.21751649677753448,
          -0.4159018099308014,
          2.2653353214263916
         ]
        }
       ],
       "layout": {
        "template": {
         "data": {
          "bar": [
           {
            "error_x": {
             "color": "#2a3f5f"
            },
            "error_y": {
             "color": "#2a3f5f"
            },
            "marker": {
             "line": {
              "color": "#E5ECF6",
              "width": 0.5
             },
             "pattern": {
              "fillmode": "overlay",
              "size": 10,
              "solidity": 0.2
             }
            },
            "type": "bar"
           }
          ],
          "barpolar": [
           {
            "marker": {
             "line": {
              "color": "#E5ECF6",
              "width": 0.5
             },
             "pattern": {
              "fillmode": "overlay",
              "size": 10,
              "solidity": 0.2
             }
            },
            "type": "barpolar"
           }
          ],
          "carpet": [
           {
            "aaxis": {
             "endlinecolor": "#2a3f5f",
             "gridcolor": "white",
             "linecolor": "white",
             "minorgridcolor": "white",
             "startlinecolor": "#2a3f5f"
            },
            "baxis": {
             "endlinecolor": "#2a3f5f",
             "gridcolor": "white",
             "linecolor": "white",
             "minorgridcolor": "white",
             "startlinecolor": "#2a3f5f"
            },
            "type": "carpet"
           }
          ],
          "choropleth": [
           {
            "colorbar": {
             "outlinewidth": 0,
             "ticks": ""
            },
            "type": "choropleth"
           }
          ],
          "contour": [
           {
            "colorbar": {
             "outlinewidth": 0,
             "ticks": ""
            },
            "colorscale": [
             [
              0,
              "#0d0887"
             ],
             [
              0.1111111111111111,
              "#46039f"
             ],
             [
              0.2222222222222222,
              "#7201a8"
             ],
             [
              0.3333333333333333,
              "#9c179e"
             ],
             [
              0.4444444444444444,
              "#bd3786"
             ],
             [
              0.5555555555555556,
              "#d8576b"
             ],
             [
              0.6666666666666666,
              "#ed7953"
             ],
             [
              0.7777777777777778,
              "#fb9f3a"
             ],
             [
              0.8888888888888888,
              "#fdca26"
             ],
             [
              1,
              "#f0f921"
             ]
            ],
            "type": "contour"
           }
          ],
          "contourcarpet": [
           {
            "colorbar": {
             "outlinewidth": 0,
             "ticks": ""
            },
            "type": "contourcarpet"
           }
          ],
          "heatmap": [
           {
            "colorbar": {
             "outlinewidth": 0,
             "ticks": ""
            },
            "colorscale": [
             [
              0,
              "#0d0887"
             ],
             [
              0.1111111111111111,
              "#46039f"
             ],
             [
              0.2222222222222222,
              "#7201a8"
             ],
             [
              0.3333333333333333,
              "#9c179e"
             ],
             [
              0.4444444444444444,
              "#bd3786"
             ],
             [
              0.5555555555555556,
              "#d8576b"
             ],
             [
              0.6666666666666666,
              "#ed7953"
             ],
             [
              0.7777777777777778,
              "#fb9f3a"
             ],
             [
              0.8888888888888888,
              "#fdca26"
             ],
             [
              1,
              "#f0f921"
             ]
            ],
            "type": "heatmap"
           }
          ],
          "heatmapgl": [
           {
            "colorbar": {
             "outlinewidth": 0,
             "ticks": ""
            },
            "colorscale": [
             [
              0,
              "#0d0887"
             ],
             [
              0.1111111111111111,
              "#46039f"
             ],
             [
              0.2222222222222222,
              "#7201a8"
             ],
             [
              0.3333333333333333,
              "#9c179e"
             ],
             [
              0.4444444444444444,
              "#bd3786"
             ],
             [
              0.5555555555555556,
              "#d8576b"
             ],
             [
              0.6666666666666666,
              "#ed7953"
             ],
             [
              0.7777777777777778,
              "#fb9f3a"
             ],
             [
              0.8888888888888888,
              "#fdca26"
             ],
             [
              1,
              "#f0f921"
             ]
            ],
            "type": "heatmapgl"
           }
          ],
          "histogram": [
           {
            "marker": {
             "pattern": {
              "fillmode": "overlay",
              "size": 10,
              "solidity": 0.2
             }
            },
            "type": "histogram"
           }
          ],
          "histogram2d": [
           {
            "colorbar": {
             "outlinewidth": 0,
             "ticks": ""
            },
            "colorscale": [
             [
              0,
              "#0d0887"
             ],
             [
              0.1111111111111111,
              "#46039f"
             ],
             [
              0.2222222222222222,
              "#7201a8"
             ],
             [
              0.3333333333333333,
              "#9c179e"
             ],
             [
              0.4444444444444444,
              "#bd3786"
             ],
             [
              0.5555555555555556,
              "#d8576b"
             ],
             [
              0.6666666666666666,
              "#ed7953"
             ],
             [
              0.7777777777777778,
              "#fb9f3a"
             ],
             [
              0.8888888888888888,
              "#fdca26"
             ],
             [
              1,
              "#f0f921"
             ]
            ],
            "type": "histogram2d"
           }
          ],
          "histogram2dcontour": [
           {
            "colorbar": {
             "outlinewidth": 0,
             "ticks": ""
            },
            "colorscale": [
             [
              0,
              "#0d0887"
             ],
             [
              0.1111111111111111,
              "#46039f"
             ],
             [
              0.2222222222222222,
              "#7201a8"
             ],
             [
              0.3333333333333333,
              "#9c179e"
             ],
             [
              0.4444444444444444,
              "#bd3786"
             ],
             [
              0.5555555555555556,
              "#d8576b"
             ],
             [
              0.6666666666666666,
              "#ed7953"
             ],
             [
              0.7777777777777778,
              "#fb9f3a"
             ],
             [
              0.8888888888888888,
              "#fdca26"
             ],
             [
              1,
              "#f0f921"
             ]
            ],
            "type": "histogram2dcontour"
           }
          ],
          "mesh3d": [
           {
            "colorbar": {
             "outlinewidth": 0,
             "ticks": ""
            },
            "type": "mesh3d"
           }
          ],
          "parcoords": [
           {
            "line": {
             "colorbar": {
              "outlinewidth": 0,
              "ticks": ""
             }
            },
            "type": "parcoords"
           }
          ],
          "pie": [
           {
            "automargin": true,
            "type": "pie"
           }
          ],
          "scatter": [
           {
            "fillpattern": {
             "fillmode": "overlay",
             "size": 10,
             "solidity": 0.2
            },
            "type": "scatter"
           }
          ],
          "scatter3d": [
           {
            "line": {
             "colorbar": {
              "outlinewidth": 0,
              "ticks": ""
             }
            },
            "marker": {
             "colorbar": {
              "outlinewidth": 0,
              "ticks": ""
             }
            },
            "type": "scatter3d"
           }
          ],
          "scattercarpet": [
           {
            "marker": {
             "colorbar": {
              "outlinewidth": 0,
              "ticks": ""
             }
            },
            "type": "scattercarpet"
           }
          ],
          "scattergeo": [
           {
            "marker": {
             "colorbar": {
              "outlinewidth": 0,
              "ticks": ""
             }
            },
            "type": "scattergeo"
           }
          ],
          "scattergl": [
           {
            "marker": {
             "colorbar": {
              "outlinewidth": 0,
              "ticks": ""
             }
            },
            "type": "scattergl"
           }
          ],
          "scattermapbox": [
           {
            "marker": {
             "colorbar": {
              "outlinewidth": 0,
              "ticks": ""
             }
            },
            "type": "scattermapbox"
           }
          ],
          "scatterpolar": [
           {
            "marker": {
             "colorbar": {
              "outlinewidth": 0,
              "ticks": ""
             }
            },
            "type": "scatterpolar"
           }
          ],
          "scatterpolargl": [
           {
            "marker": {
             "colorbar": {
              "outlinewidth": 0,
              "ticks": ""
             }
            },
            "type": "scatterpolargl"
           }
          ],
          "scatterternary": [
           {
            "marker": {
             "colorbar": {
              "outlinewidth": 0,
              "ticks": ""
             }
            },
            "type": "scatterternary"
           }
          ],
          "surface": [
           {
            "colorbar": {
             "outlinewidth": 0,
             "ticks": ""
            },
            "colorscale": [
             [
              0,
              "#0d0887"
             ],
             [
              0.1111111111111111,
              "#46039f"
             ],
             [
              0.2222222222222222,
              "#7201a8"
             ],
             [
              0.3333333333333333,
              "#9c179e"
             ],
             [
              0.4444444444444444,
              "#bd3786"
             ],
             [
              0.5555555555555556,
              "#d8576b"
             ],
             [
              0.6666666666666666,
              "#ed7953"
             ],
             [
              0.7777777777777778,
              "#fb9f3a"
             ],
             [
              0.8888888888888888,
              "#fdca26"
             ],
             [
              1,
              "#f0f921"
             ]
            ],
            "type": "surface"
           }
          ],
          "table": [
           {
            "cells": {
             "fill": {
              "color": "#EBF0F8"
             },
             "line": {
              "color": "white"
             }
            },
            "header": {
             "fill": {
              "color": "#C8D4E3"
             },
             "line": {
              "color": "white"
             }
            },
            "type": "table"
           }
          ]
         },
         "layout": {
          "annotationdefaults": {
           "arrowcolor": "#2a3f5f",
           "arrowhead": 0,
           "arrowwidth": 1
          },
          "autotypenumbers": "strict",
          "coloraxis": {
           "colorbar": {
            "outlinewidth": 0,
            "ticks": ""
           }
          },
          "colorscale": {
           "diverging": [
            [
             0,
             "#8e0152"
            ],
            [
             0.1,
             "#c51b7d"
            ],
            [
             0.2,
             "#de77ae"
            ],
            [
             0.3,
             "#f1b6da"
            ],
            [
             0.4,
             "#fde0ef"
            ],
            [
             0.5,
             "#f7f7f7"
            ],
            [
             0.6,
             "#e6f5d0"
            ],
            [
             0.7,
             "#b8e186"
            ],
            [
             0.8,
             "#7fbc41"
            ],
            [
             0.9,
             "#4d9221"
            ],
            [
             1,
             "#276419"
            ]
           ],
           "sequential": [
            [
             0,
             "#0d0887"
            ],
            [
             0.1111111111111111,
             "#46039f"
            ],
            [
             0.2222222222222222,
             "#7201a8"
            ],
            [
             0.3333333333333333,
             "#9c179e"
            ],
            [
             0.4444444444444444,
             "#bd3786"
            ],
            [
             0.5555555555555556,
             "#d8576b"
            ],
            [
             0.6666666666666666,
             "#ed7953"
            ],
            [
             0.7777777777777778,
             "#fb9f3a"
            ],
            [
             0.8888888888888888,
             "#fdca26"
            ],
            [
             1,
             "#f0f921"
            ]
           ],
           "sequentialminus": [
            [
             0,
             "#0d0887"
            ],
            [
             0.1111111111111111,
             "#46039f"
            ],
            [
             0.2222222222222222,
             "#7201a8"
            ],
            [
             0.3333333333333333,
             "#9c179e"
            ],
            [
             0.4444444444444444,
             "#bd3786"
            ],
            [
             0.5555555555555556,
             "#d8576b"
            ],
            [
             0.6666666666666666,
             "#ed7953"
            ],
            [
             0.7777777777777778,
             "#fb9f3a"
            ],
            [
             0.8888888888888888,
             "#fdca26"
            ],
            [
             1,
             "#f0f921"
            ]
           ]
          },
          "colorway": [
           "#636efa",
           "#EF553B",
           "#00cc96",
           "#ab63fa",
           "#FFA15A",
           "#19d3f3",
           "#FF6692",
           "#B6E880",
           "#FF97FF",
           "#FECB52"
          ],
          "font": {
           "color": "#2a3f5f"
          },
          "geo": {
           "bgcolor": "white",
           "lakecolor": "white",
           "landcolor": "#E5ECF6",
           "showlakes": true,
           "showland": true,
           "subunitcolor": "white"
          },
          "hoverlabel": {
           "align": "left"
          },
          "hovermode": "closest",
          "mapbox": {
           "style": "light"
          },
          "paper_bgcolor": "white",
          "plot_bgcolor": "#E5ECF6",
          "polar": {
           "angularaxis": {
            "gridcolor": "white",
            "linecolor": "white",
            "ticks": ""
           },
           "bgcolor": "#E5ECF6",
           "radialaxis": {
            "gridcolor": "white",
            "linecolor": "white",
            "ticks": ""
           }
          },
          "scene": {
           "xaxis": {
            "backgroundcolor": "#E5ECF6",
            "gridcolor": "white",
            "gridwidth": 2,
            "linecolor": "white",
            "showbackground": true,
            "ticks": "",
            "zerolinecolor": "white"
           },
           "yaxis": {
            "backgroundcolor": "#E5ECF6",
            "gridcolor": "white",
            "gridwidth": 2,
            "linecolor": "white",
            "showbackground": true,
            "ticks": "",
            "zerolinecolor": "white"
           },
           "zaxis": {
            "backgroundcolor": "#E5ECF6",
            "gridcolor": "white",
            "gridwidth": 2,
            "linecolor": "white",
            "showbackground": true,
            "ticks": "",
            "zerolinecolor": "white"
           }
          },
          "shapedefaults": {
           "line": {
            "color": "#2a3f5f"
           }
          },
          "ternary": {
           "aaxis": {
            "gridcolor": "white",
            "linecolor": "white",
            "ticks": ""
           },
           "baxis": {
            "gridcolor": "white",
            "linecolor": "white",
            "ticks": ""
           },
           "bgcolor": "#E5ECF6",
           "caxis": {
            "gridcolor": "white",
            "linecolor": "white",
            "ticks": ""
           }
          },
          "title": {
           "x": 0.05
          },
          "xaxis": {
           "automargin": true,
           "gridcolor": "white",
           "linecolor": "white",
           "ticks": "",
           "title": {
            "standoff": 15
           },
           "zerolinecolor": "white",
           "zerolinewidth": 2
          },
          "yaxis": {
           "automargin": true,
           "gridcolor": "white",
           "linecolor": "white",
           "ticks": "",
           "title": {
            "standoff": 15
           },
           "zerolinecolor": "white",
           "zerolinewidth": 2
          }
         }
        }
       }
      }
     },
     "metadata": {},
     "output_type": "display_data"
    }
   ],
   "source": [
    "import plotly.graph_objects as go\n",
    "net.train(False)\n",
    "y_ = net(features)\n",
    "x = y_.flatten().detach()\n",
    "y = labels.flatten().detach()\n",
    "fig = go.Figure()\n",
    "# fig.add_trace(go.Scatter(x = features.flatten(), y=labels.flatten(), mode='markers'))\n",
    "# fig.add_trace(go.Scatter(x = features.flatten(), y= x))\n",
    "fig.add_trace(go.Scatter(x = x, y=y, mode='markers'))\n",
    "\n",
    "# 显示图表\n",
    "fig.show()"
   ]
  }
 ],
 "metadata": {
  "kernelspec": {
   "display_name": "Gdproject",
   "language": "python",
   "name": "python3"
  },
  "language_info": {
   "codemirror_mode": {
    "name": "ipython",
    "version": 3
   },
   "file_extension": ".py",
   "mimetype": "text/x-python",
   "name": "python",
   "nbconvert_exporter": "python",
   "pygments_lexer": "ipython3",
   "version": "3.9.20"
  }
 },
 "nbformat": 4,
 "nbformat_minor": 2
}
