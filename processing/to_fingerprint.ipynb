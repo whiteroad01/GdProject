{
 "cells": [
  {
   "cell_type": "code",
   "execution_count": null,
   "metadata": {},
   "outputs": [],
   "source": [
    "import utils as my\n",
    "import pandas as pd\n",
    "import pubchempy as pbp\n",
    "from rdkit import Chem\n",
    "from rdkit.Chem import rdMolDescriptors\n",
    "import torch\n",
    "import numpy as np"
   ]
  },
  {
   "cell_type": "code",
   "execution_count": null,
   "metadata": {},
   "outputs": [],
   "source": [
    "data = pd.read_csv('../data.csv')\n",
    "smiles = data['smiles']\n",
    "CI_raw = data['A2780 CS']\n",
    "smiles_nonan = []\n",
    "CI = []\n",
    "for i in range(len(smiles)):\n",
    "    if not pd.isna(smiles[i]) and not pd.isna(CI_raw[i]):\n",
    "        smiles_nonan.append(smiles[i])\n",
    "        CI.append(my.strtonp(CI_raw[i]))\n",
    "CI = np.asarray(CI)"
   ]
  },
  {
   "cell_type": "code",
   "execution_count": null,
   "metadata": {},
   "outputs": [],
   "source": [
    "# fingerprints = my.get_compounds(smiles_nonan, result='fingerprint', identifier='smiles')"
   ]
  },
  {
   "cell_type": "code",
   "execution_count": null,
   "metadata": {},
   "outputs": [],
   "source": [
    "fingerprints = []\n",
    "for i in smiles_nonan:\n",
    "    molecular = Chem.MolFromSmiles(i)\n",
    "    fingerprint = rdMolDescriptors.GetMorganFingerprintAsBitVect(molecular, 6, nBits=1024)\n",
    "    fingerprint = list(fingerprint)\n",
    "    fingerprints.append(fingerprint)\n"
   ]
  },
  {
   "cell_type": "code",
   "execution_count": 29,
   "metadata": {},
   "outputs": [
    {
     "name": "stdout",
     "output_type": "stream",
     "text": [
      "torch.Size([341, 1024])\n"
     ]
    }
   ],
   "source": [
    "features = torch.tensor(fingerprints, dtype=torch.double)\n",
    "labels = torch.tensor(CI[:,1])\n",
    "# data_processed = pd.DataFrame({'features': features, 'labels': labels})\n",
    "print(features.shape)"
   ]
  }
 ],
 "metadata": {
  "kernelspec": {
   "display_name": "GdProject",
   "language": "python",
   "name": "python3"
  },
  "language_info": {
   "codemirror_mode": {
    "name": "ipython",
    "version": 3
   },
   "file_extension": ".py",
   "mimetype": "text/x-python",
   "name": "python",
   "nbconvert_exporter": "python",
   "pygments_lexer": "ipython3",
   "version": "3.9.20"
  }
 },
 "nbformat": 4,
 "nbformat_minor": 2
}
